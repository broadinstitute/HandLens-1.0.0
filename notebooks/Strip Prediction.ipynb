{
 "cells": [
  {
   "cell_type": "code",
   "execution_count": 9,
   "metadata": {},
   "outputs": [],
   "source": [
    "import statistics\n",
    "import cv2\n",
    "import imutils\n",
    "import math\n",
    "import numpy as np\n",
    "from matplotlib import pyplot as plt\n",
    "import matplotlib.lines as mlines\n",
    "from scripts import strip_detection\n",
    "\n",
    "from sklearn.metrics import roc_curve\n",
    "from sklearn.metrics import roc_auc_score\n",
    "from sklearn.metrics import r2_score\n",
    "from sklearn.metrics import brier_score_loss\n",
    "from sklearn.metrics import classification_report\n",
    "from sklearn.metrics import precision_recall_fscore_support\n",
    "from sklearn.metrics import f1_score\n",
    "from sklearn.metrics import accuracy_score"
   ]
  },
  {
   "cell_type": "code",
   "execution_count": 10,
   "metadata": {
    "pycharm": {
     "is_executing": false
    }
   },
   "outputs": [],
   "source": [
    "test_files = ['dilution1',\n",
    "              'dilution2',\n",
    "              'dilution3',\n",
    "              'dilution4',\n",
    "              'dilution5']\n",
    "\n",
    "# test_files = ['SL-IV-1',\n",
    "#               'EBOV-1-G2']\n",
    "\n",
    "# #               'EBOV-2-G9', # too dark\n",
    "# #              'SL-LOD-1.jpg', # too dark\n",
    "              \n",
    "#               'LF-1-patients',\n",
    "#               'N2-LOD-1',\n",
    "#               'N2-LOD-2',\n",
    "#               'N2-LOD-3',\n",
    "#               'NG-LOD-1']\n",
    "\n",
    "LODStandardDeviation = 31"
   ]
  },
  {
   "cell_type": "code",
   "execution_count": 13,
   "metadata": {},
   "outputs": [],
   "source": [
    "def getTruthValueFromFile(filename):\n",
    "    if filename is None:\n",
    "        return []\n",
    "    truth_values = []\n",
    "    with open(filename) as file:\n",
    "        for line in file:\n",
    "            line = line.strip()\n",
    "            if line != 'pos' and line != 'neg':\n",
    "                raise Exception('Truth file contains line other than \"pos\" or \"neg\"')\n",
    "            if line == 'pos':                    \n",
    "                truth_values.append(1)\n",
    "            else:\n",
    "                truth_values.append(0)\n",
    "    return truth_values\n",
    "\n",
    "def score_confidence_interval(score_fun, y_true, y_pred, pvalue, niter):\n",
    "    \"\"\"\n",
    "    Calculation of the confidence interval for a given p-value using bootstrap sampling\n",
    "    http://stackoverflow.com/questions/19124239/scikit-learn-roc-curve-with-confidence-intervals\n",
    "    \"\"\"\n",
    "    \n",
    "    n_bootstraps = niter\n",
    "    bootstrapped_scores = []\n",
    "    \n",
    "#     rng_seed = 42  # control reproducibility\n",
    "#     rng = np.random.RandomState(rng_seed)\n",
    "\n",
    "    rng = np.random.RandomState()\n",
    "    for i in range(n_bootstraps):\n",
    "        # bootstrap by sampling with replacement on the prediction indices\n",
    "        indices = rng.randint(0, len(y_pred) - 1, len(y_pred))\n",
    "        \n",
    "        if len(np.unique(y_true[indices])) < 2:\n",
    "            # We need at least one positive and one negative sample for ROC AUC\n",
    "            # to be defined: reject the sample\n",
    "            continue\n",
    "\n",
    "        score = score_fun(y_true[indices], y_pred[indices])\n",
    "        bootstrapped_scores.append(score)\n",
    "    \n",
    "    sorted_scores = np.array(bootstrapped_scores)\n",
    "    sorted_scores.sort()\n",
    "\n",
    "    confidence_lower = sorted_scores[int((1 - pvalue) * len(sorted_scores))] \n",
    "    confidence_upper = sorted_scores[int(pvalue * len(sorted_scores))]\n",
    "\n",
    "    return [confidence_lower, confidence_upper]\n",
    "\n",
    "def auc_confidence_interval(y_true, y_pred, pvalue=0.95, niter=1000):\n",
    "    return score_confidence_interval(roc_auc_score, y_true, y_pred, pvalue, niter)\n",
    "\n",
    "\n",
    "def getStripPixelAreaFromFile(filename):\n",
    "    if filename is None:\n",
    "        return None\n",
    "    with open(filename) as file:\n",
    "        for line in file:\n",
    "            return int(line)"
   ]
  },
  {
   "cell_type": "code",
   "execution_count": 14,
   "metadata": {},
   "outputs": [
    {
     "name": "stdout",
     "output_type": "stream",
     "text": [
      "images/dilution1.jpg\n",
      "[1, 1, 1, 1, 1, 0, 0]\n",
      "[1, 1, 1, 1, 1, 0.539957820652482]\n",
      "images/dilution2.jpg\n",
      "[1, 1, 1, 1, 1, 0, 0]\n",
      "[1, 1, 1, 1, 1, 0.4793770444591142]\n",
      "images/dilution3.jpg\n",
      "[1, 1, 1, 1, 1, 0, 0]\n",
      "[1, 1, 0.6625761563396886, 0.545974891251199, 0.5877678712983906, 0.7379486915730985]\n",
      "images/dilution4.jpg\n",
      "[1, 1, 1, 1, 0, 0]\n",
      "[1, 1, 1, 0.4180323783754937, 0.4829995205943035]\n",
      "images/dilution5.jpg\n",
      "[1, 1, 1, 0, 0]\n",
      "[1, 1, 1, 0.8171265868346589]\n"
     ]
    }
   ],
   "source": [
    "all_scores = []\n",
    "all_truths = []\n",
    "for test in test_files:\n",
    "    img_fn = 'images/' + test + \".jpg\"\n",
    "    tru_fn = 'images/' + test + \".txt\"\n",
    "\n",
    "    t = getTruthValueFromFile(tru_fn)\n",
    "    s = strip_detection.getPredictions(img_fn, getStripPixelAreaFromFile('images/' + test + '_size.txt') )\n",
    "    all_scores += s\n",
    "    all_truths += t[:-1]\n",
    "    print(img_fn)\n",
    "    print(t)\n",
    "    print(s)"
   ]
  },
  {
   "cell_type": "code",
   "execution_count": 22,
   "metadata": {},
   "outputs": [
    {
     "name": "stdout",
     "output_type": "stream",
     "text": [
      "Number of strips   : 27\n",
      "Number of positives: 22\n",
      "Perc. of positives : 81.48\n",
      "\n",
      "Measures of performance\n",
      "AUC           : 0.90 (0.82, 1.00)\n",
      "Brier         : 0.10\n",
      "Accuracy      : 0.81\n",
      "Sensitivity   : 0.82\n",
      "Specificity   : 0.80\n"
     ]
    }
   ],
   "source": [
    "class_threshold = 0.8\n",
    "p_value = 0.95\n",
    "all_preds = np.array([int(class_threshold < p) for p in all_scores])\n",
    "\n",
    "ytrue = np.array(all_truths)\n",
    "probs = np.array(all_scores)\n",
    "ypred = all_preds\n",
    "\n",
    "auc = roc_auc_score(ytrue, probs)\n",
    "fpr, tpr, thresholds = roc_curve(ytrue, probs) \n",
    "brier = brier_score_loss(ytrue, probs)\n",
    "# cal, dis = caldis(ytrue, probs)\n",
    "acc = accuracy_score(ytrue, ypred)\n",
    "precision, recall, f1score, support = precision_recall_fscore_support(ytrue, ypred)\n",
    "\n",
    "auc_ci = auc_confidence_interval(ytrue, probs, p_value)\n",
    "\n",
    "P = N = 0\n",
    "TP = TN = 0\n",
    "FP = FN = 0\n",
    "for i in range(len(ytrue)):\n",
    "    if ytrue[i] == 1:\n",
    "        P += 1\n",
    "        if ypred[i] == 1: TP += 1\n",
    "        else: FN += 1\n",
    "    else:\n",
    "        N += 1\n",
    "        if ypred[i] == 0: TN += 1\n",
    "        else: FP += 1\n",
    "            \n",
    "sens = float(TP)/P\n",
    "spec = float(TN)/N\n",
    "\n",
    "# Positive and Negative Predictive Values\n",
    "# https://en.wikipedia.org/wiki/Positive_and_negative_predictive_values\n",
    "ppv = float(TP) / (TP + FP)\n",
    "npv = float(TN) / (TN + FN)\n",
    "        \n",
    "# Likelihood ratios\n",
    "# https://en.wikipedia.org/wiki/Likelihood_ratios_in_diagnostic_testing\n",
    "lr_pos = sens / (1 - spec) if spec < 1 else np.inf\n",
    "lr_neg = (1 - sens) / spec if 0 < spec else np.inf\n",
    "\n",
    "# print \"True outcomes:\", ytrue\n",
    "# print \"Prediction   :\", ypred\n",
    "cfr = 100 * (float(np.sum(ytrue)) / len(ytrue))\n",
    "print(\"Number of strips   :\", len(ytrue))\n",
    "print(\"Number of positives:\", np.sum(ytrue)) \n",
    "print(\"Perc. of positives : %0.2f\" % cfr)\n",
    "\n",
    "print(\"\")\n",
    "print(\"Measures of performance\") \n",
    "print(\"AUC           : %0.2f (%0.2f, %0.2f)\" % (auc, auc_ci[0], auc_ci[1])) \n",
    "print(\"Brier         : %0.2f\" % brier) \n",
    "# print(\"Calibration   :\", cal) \n",
    "# print(\"Discrimination:\", dis) \n",
    "print(\"Accuracy      : %0.2f\" % acc) \n",
    "print(\"Sensitivity   : %0.2f\" % sens) \n",
    "print(\"Specificity   : %0.2f\" % spec) \n",
    "# print(\"PPV           : %0.2f\" % ppv) \n",
    "# print(\"NPV           : %0.2f\" % npv) "
   ]
  },
  {
   "cell_type": "code",
   "execution_count": 23,
   "metadata": {},
   "outputs": [
    {
     "data": {
      "image/png": "[encoded data removed]",
      "text/plain": [
       "<Figure size 432x288 with 1 Axes>"
      ]
     },
     "metadata": {
      "needs_background": "light"
     },
     "output_type": "display_data"
    }
   ],
   "source": [
    "fig, ax = plt.subplots()\n",
    "plt.xlim([-0.1, 1.1])\n",
    "plt.ylim([-0.1, 1.1])\n",
    "plt.plot([0, 1], [0, 1], 'k--', c='grey')\n",
    "plt.plot(fpr, tpr, color='black')\n",
    "plt.xlabel('1 - Specificity')\n",
    "plt.ylabel('Sensitivity')\n",
    "fig.savefig('reader-roc.pdf')"
   ]
  },
  {
   "cell_type": "code",
   "execution_count": null,
   "metadata": {},
   "outputs": [],
   "source": []
  }
 ],
 "metadata": {
  "kernelspec": {
   "display_name": "Python 3",
   "language": "python",
   "name": "python3"
  },
  "language_info": {
   "codemirror_mode": {
    "name": "ipython",
    "version": 3
   },
   "file_extension": ".py",
   "mimetype": "text/x-python",
   "name": "python",
   "nbconvert_exporter": "python",
   "pygments_lexer": "ipython3",
   "version": "3.7.3"
  },
  "pycharm": {
   "stem_cell": {
    "cell_type": "raw",
    "metadata": {
     "collapsed": false
    },
    "source": [
     "%%\n",
     "import statistics\n",
     "import cv2\n",
     "import imutils\n",
     "import math\n",
     "import numpy as np\n",
     "from matplotlib import pyplot as plt\n",
     "import matplotlib.lines as mlines\n",
     "\n",
     "from sklearn.metrics import roc_curve\n",
     "from sklearn.metrics import roc_auc_score\n",
     "from sklearn.metrics import r2_score\n",
     "from sklearn.metrics import brier_score_loss\n",
     "from sklearn.metrics import classification_report\n",
     "from sklearn.metrics import precision_recall_fscore_support\n",
     "from sklearn.metrics import f1_score\n",
     "from sklearn.metrics import accuracy_score"
    ]
   }
  }
 },
 "nbformat": 4,
 "nbformat_minor": 2
}
